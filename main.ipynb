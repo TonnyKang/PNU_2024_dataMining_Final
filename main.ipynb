{
 "cells": [
  {
   "cell_type": "code",
   "execution_count": 2,
   "metadata": {},
   "outputs": [
    {
     "name": "stdout",
     "output_type": "stream",
     "text": [
      "         측정일자   측정시간  지역 지역명    도로명                    시작점  \\\n",
      "0  2024-11-01  16:04  인천  서구    에코로  인천광역시 서구 경서동 519-44 답   \n",
      "1  2024-11-01  15:55  인천  서구   청라대로  인천광역시 서구 원창동 403-43 전   \n",
      "2  2024-11-01  15:40  인천  서구    경제로      인천광역시 서구 연희동 821도   \n",
      "3  2024-11-01  15:29  인천  서구  청라한울로    인천광역시 서구 경서동 855-5도   \n",
      "4  2024-11-01  15:20  인천  서구  크리스탈로    인천광역시 서구 경서동 970-6도   \n",
      "\n",
      "                      종점  기온  습도  재비산먼지 평균농도  오염범례  \n",
      "0  인천광역시 서구 경서동 542-37 답  18  64          78    좋음  \n",
      "1           인천광역시 서구 경서동  19  63          83    좋음  \n",
      "2   인천광역시 서구 경서동 584-1 잡  19  63          15  매우좋음  \n",
      "3    인천광역시 서구 경서동 837-8도  19  63          24  매우좋음  \n",
      "4   인천광역시 서구 경서동 836-99도  19  64          37  매우좋음  \n"
     ]
    }
   ],
   "source": [
    "import pandas as pd\n",
    "\n",
    "# Specify the file name\n",
    "file_name = \"한국환경공단_도로 재비산먼지 측정 정보_20241130.csv\"\n",
    "\n",
    "# Try reading the file with a different encoding\n",
    "try:\n",
    "    data = pd.read_csv(file_name, encoding=\"euc-kr\")  # Adjust to \"cp949\" if needed\n",
    "    print(data.head())\n",
    "except UnicodeDecodeError as e:\n",
    "    print(f\"Error reading the file: {e}\")\n",
    "    print(\"Trying with a different encoding...\")\n",
    "    data = pd.read_csv(file_name, encoding=\"cp949\")\n",
    "    print(data.head())\n",
    "\n"
   ]
  }
 ],
 "metadata": {
  "kernelspec": {
   "display_name": "base",
   "language": "python",
   "name": "python3"
  },
  "language_info": {
   "codemirror_mode": {
    "name": "ipython",
    "version": 3
   },
   "file_extension": ".py",
   "mimetype": "text/x-python",
   "name": "python",
   "nbconvert_exporter": "python",
   "pygments_lexer": "ipython3",
   "version": "3.9.13"
  }
 },
 "nbformat": 4,
 "nbformat_minor": 2
}
